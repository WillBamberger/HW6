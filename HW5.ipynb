{
 "cells": [
  {
   "cell_type": "markdown",
   "metadata": {},
   "source": [
    "# Homework 6\n",
    "You need to classify digits with SVM models in this homework. Use PCA to reduce data dimensionality (80% information remain). Compare performance of linear, radial, and polynomial kernals. Tune kernal parameters using Randomsearch method."
   ]
  },
  {
   "cell_type": "code",
   "execution_count": 1,
   "metadata": {},
   "outputs": [
    {
     "data": {
      "image/png": "[encoded data removed]",
      "text/plain": [
       "<Figure size 720x288 with 40 Axes>"
      ]
     },
     "metadata": {},
     "output_type": "display_data"
    }
   ],
   "source": [
    "%matplotlib inline\n",
    "import numpy as np\n",
    "import matplotlib.pyplot as plt\n",
    "from sklearn.decomposition import PCA\n",
    "from sklearn.svm import SVC\n",
    "from sklearn.model_selection import RandomizedSearchCV\n",
    "from sklearn.model_selection import train_test_split\n",
    "from sklearn.pipeline import make_pipeline\n",
    "\n",
    "# use seaborn plotting defaults\n",
    "import seaborn as sns; sns.set()\n",
    "from sklearn import datasets, svm, metrics\n",
    "\n",
    "# The digits dataset\n",
    "digits = datasets.load_digits()\n",
    "\n",
    "def plot_digits(data):\n",
    "    fig, axes = plt.subplots(4, 10, figsize=(10, 4),\n",
    "                             subplot_kw={'xticks':[], 'yticks':[]},\n",
    "                             gridspec_kw=dict(hspace=0.1, wspace=0.1))\n",
    "    for i, ax in enumerate(axes.flat):\n",
    "        ax.imshow(data[i].reshape(8, 8),\n",
    "                  cmap='binary', interpolation='nearest',\n",
    "                  clim=(0, 16))\n",
    "plot_digits(digits.data)"
   ]
  },
  {
   "cell_type": "code",
   "execution_count": 2,
   "metadata": {},
   "outputs": [
    {
     "name": "stdout",
     "output_type": "stream",
     "text": [
      "Number of components needed for 80% before rounding:  11.841054151352834\n"
     ]
    },
    {
     "data": {
      "image/png": "[encoded data removed]",
      "text/plain": [
       "<Figure size 432x288 with 1 Axes>"
      ]
     },
     "metadata": {},
     "output_type": "display_data"
    }
   ],
   "source": [
    "# Estimate how many components are needed to describe the data\n",
    "pca = PCA().fit(digits.data)\n",
    "evr = np.cumsum(pca.explained_variance_ratio_)\n",
    "plt.plot(evr)\n",
    "plt.plot(np.cumsum(pca.explained_variance_ratio_))\n",
    "plt.xlabel('number of components')\n",
    "plt.ylabel('cumulative explained variance');\n",
    "\n",
    "# Return the cumulative sum of the elements along a given axis.\n",
    "a = np.array([[1,2,3], [4,5,6]])\n",
    "np.cumsum(a)\n",
    "print(\"Number of components needed for 80% before rounding: \", np.interp(0.80, evr, np.arange(64))) "
   ]
  },
  {
   "cell_type": "code",
   "execution_count": 7,
   "metadata": {},
   "outputs": [
    {
     "name": "stdout",
     "output_type": "stream",
     "text": [
      "Linear accuracy:  0.9577777777777777\n",
      "Linear best parameters:  {'svc__C': 1000}\n",
      "RBF accuracy:  0.9888888888888889\n",
      "RBF best parameters:  {'svc__gamma': 0.001, 'svc__C': 1}\n",
      "Polynomial accuracy:  0.9755555555555555\n",
      "Polynomial best parameters:  {'svc__degree': 3, 'svc__C': 100}\n"
     ]
    }
   ],
   "source": [
    "# Keep 80% of the variance\n",
    "pca = PCA(n_components=0.8)\n",
    "\n",
    "# Split data into train and test subsets\n",
    "Xtrain, Xtest, ytrain, ytest = train_test_split(digits.data, digits.target,random_state=42)\n",
    "\n",
    "# Linear SVM\n",
    "linear_svc = SVC(kernel='linear')\n",
    "linear_model = make_pipeline(pca, linear_svc)\n",
    "\n",
    "# Run randomized search on the linear model\n",
    "linear = RandomizedSearchCV(estimator = linear_model, param_distributions={'svc__C': [1, 10, 100, 1000]},n_iter=4,n_jobs=4, cv=5)\n",
    "linear.fit(Xtrain, ytrain)\n",
    "linear_accuracy = linear.score(Xtest, ytest)\n",
    "\n",
    "# Print the best parameters and the best score\n",
    "print(\"Linear accuracy: \", linear_accuracy)\n",
    "print(\"Linear best parameters: \", linear.best_params_)\n",
    "\n",
    "# RBF SVM\n",
    "rbf_svc = SVC(kernel='rbf')\n",
    "rbf_model = make_pipeline(pca, rbf_svc)\n",
    "\n",
    "# Run randomized search on the rbf model\n",
    "rbf = RandomizedSearchCV(estimator = rbf_model, param_distributions={'svc__C': [1, 10, 100, 100], 'svc__gamma': [0.1, 0.01, 0.001, 0.0001]},n_jobs=4, cv=5)\n",
    "rbf.fit(Xtrain, ytrain)\n",
    "rbf_accuracy = rbf.score(Xtest, ytest)\n",
    "\n",
    "# Print the best parameters and the best score\n",
    "print(\"RBF accuracy: \", rbf_accuracy)\n",
    "print(\"RBF best parameters: \", rbf.best_params_)\n",
    "\n",
    "# Polynomial SVM\n",
    "poly_svc = SVC(kernel='poly')\n",
    "poly_model = make_pipeline(pca, poly_svc)\n",
    "\n",
    "# Run randomized search on the polynomial model\n",
    "poly = RandomizedSearchCV(estimator = poly_model, param_distributions={'svc__C': [1, 10, 100, 100], 'svc__degree': [1, 2, 3, 4]},n_jobs=4, cv=5)\n",
    "poly.fit(Xtrain, ytrain)\n",
    "poly_accuracy = poly.score(Xtest, ytest)\n",
    "\n",
    "# Print the best parameters and the best score\n",
    "print(\"Polynomial accuracy: \", poly_accuracy)\n",
    "print(\"Polynomial best parameters: \", poly.best_params_)"
   ]
  },
  {
   "cell_type": "code",
   "execution_count": null,
   "metadata": {},
   "outputs": [],
   "source": []
  },
  {
   "cell_type": "code",
   "execution_count": null,
   "metadata": {},
   "outputs": [],
   "source": []
  }
 ],
 "metadata": {
  "kernelspec": {
   "display_name": "Python 3",
   "language": "python",
   "name": "python3"
  },
  "language_info": {
   "codemirror_mode": {
    "name": "ipython",
    "version": 3
   },
   "file_extension": ".py",
   "mimetype": "text/x-python",
   "name": "python",
   "nbconvert_exporter": "python",
   "pygments_lexer": "ipython3",
   "version": "3.8.10"
  }
 },
 "nbformat": 4,
 "nbformat_minor": 2
}
